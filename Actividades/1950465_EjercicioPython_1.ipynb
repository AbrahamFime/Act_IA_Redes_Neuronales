{
  "nbformat": 4,
  "nbformat_minor": 0,
  "metadata": {
    "colab": {
      "provenance": []
    },
    "kernelspec": {
      "name": "python3",
      "display_name": "Python 3"
    },
    "language_info": {
      "name": "python"
    }
  },
  "cells": [
    {
      "cell_type": "code",
      "execution_count": 94,
      "metadata": {
        "id": "Jk52iK_YFkep",
        "colab": {
          "base_uri": "https://localhost:8080/"
        },
        "outputId": "891bf40b-9428-4c79-8bcd-c0414827247e"
      },
      "outputs": [
        {
          "output_type": "stream",
          "name": "stdout",
          "text": [
            "Escribe tu Nombre:Abraham\n",
            "Hola,Abraham\n"
          ]
        }
      ],
      "source": [
        "# Actividad funamental 2: Ejercicios en Python - 1950465 - Abraham Emanuel Cazares Avila - N1.\n",
        "\n",
        "# 1- Desarolla un algoritmo que le pida al usuario su nombre y que lo saludo con su nombre exceto si se llama \"Ana\",\"Juan\", y \"Pedro\".\n",
        "\n",
        "Nombre= input(\"Escribe tu Nombre:\") \n",
        "\n",
        "if(Nombre==\"Ana\" or Nombre==\"Juan\" or Nombre==\"Pedro\"):\n",
        "  print(\"Error\")\n",
        "\n",
        "else:\n",
        "  print(\"Hola,\"+Nombre)\n"
      ]
    },
    {
      "cell_type": "code",
      "source": [
        "# 2- Desarrolla un algoritmo que por medio de una funcion, le pida al usuario una lista de N elementos y como resultado invierta el sentido de la lista\n",
        "def invertir_lista():\n",
        "  C = int(input(\"Escribe la cantidad de tus colores Favoritos en la lista: \"))\n",
        "  lista = []\n",
        "  for i in range(C):\n",
        "    elemento = input(\"Ingresa un color: \")\n",
        "    lista.append(elemento)\n",
        "  lista_invertida = list(reversed(lista))\n",
        "  return lista_invertida\n",
        "lista_original = [1, 2, 3, 4, 5]\n",
        "print(\"Lista original: \", lista_original)\n",
        "lista_invertida = invertir_lista()\n",
        "print(\"Lista invertida: \", lista_invertida)"
      ],
      "metadata": {
        "id": "pnbTRn0UJQI0",
        "colab": {
          "base_uri": "https://localhost:8080/"
        },
        "outputId": "d0638c9a-c98c-49cf-d80c-a85bcb71a571"
      },
      "execution_count": 92,
      "outputs": [
        {
          "output_type": "stream",
          "name": "stdout",
          "text": [
            "Lista original:  [1, 2, 3, 4, 5]\n",
            "Escribe la cantidad de tus colores Favoritos en la lista: 4\n",
            "Ingresa un color: azul\n",
            "Ingresa un color: blanco\n",
            "Ingresa un color: negro\n",
            "Ingresa un color: gris\n",
            "Lista invertida:  ['gris', 'negro', 'blanco', 'azul']\n"
          ]
        }
      ]
    },
    {
      "cell_type": "code",
      "source": [
        "# 3- Desarolla un algoritmo que le pregunte al usuario cuantos numeros de la serie de Fibonnanci quiere generar y que al final los imprima\n",
        "def generar_fibonacci(n):\n",
        "  fib = [0, 1]\n",
        "  for i in range(2, n):\n",
        "    fib.append(fib[i-1] + fib[i-2])\n",
        "  return fib\n",
        "\n",
        "n = int(input(\"¿Cuántos números de la serie de Fibonacci quieres generar? \"))\n",
        "fibonacci = generar_fibonacci(n)\n",
        "print(\"Los primeros\", n, \"números de la serie de Fibonacci son: \", fibonacci)"
      ],
      "metadata": {
        "id": "9Uj7UUdBJjU9",
        "colab": {
          "base_uri": "https://localhost:8080/"
        },
        "outputId": "73f18d8d-ecbe-42da-b4ab-3fd10d7bd5e0"
      },
      "execution_count": 86,
      "outputs": [
        {
          "output_type": "stream",
          "name": "stdout",
          "text": [
            "¿Cuántos números de la serie de Fibonacci quieres generar? 10\n",
            "Los primeros 10 números de la serie de Fibonacci son:  [0, 1, 1, 2, 3, 5, 8, 13, 21, 34]\n"
          ]
        }
      ]
    }
  ]
}